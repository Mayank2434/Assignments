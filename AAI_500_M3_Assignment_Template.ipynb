{
  "cells": [
    {
      "cell_type": "markdown",
      "metadata": {
        "id": "view-in-github",
        "colab_type": "text"
      },
      "source": [
        "<a href=\"https://colab.research.google.com/github/Mayank2434/Assignments/blob/main/AAI_500_M3_Assignment_Template.ipynb\" target=\"_parent\"><img src=\"https://colab.research.google.com/assets/colab-badge.svg\" alt=\"Open In Colab\"/></a>"
      ]
    },
    {
      "cell_type": "markdown",
      "metadata": {
        "id": "xJG9KxnO-VSo"
      },
      "source": [
        "# Assignment 3.1\n",
        "Name:  Mayank Bhatt\n",
        "Date: 05/29/2023"
      ]
    },
    {
      "cell_type": "markdown",
      "metadata": {
        "id": "AtOhSF9U-VSw"
      },
      "source": [
        "For this assignment, you will refer to the textbook to solve the practice exercises. **Use Python to answer any coding problems (not R, even if indicated in your textbook).** Use Jupyter Notebook, Google Colab, or a similar software program to complete your assignment. Submit the assignment as a PDF file. Always label your axes and provide titles for any graphs generated on this assignment. Round all quantitative answers to 2 decimal places."
      ]
    },
    {
      "cell_type": "markdown",
      "metadata": {
        "id": "HrQy-_9i-VSx"
      },
      "source": [
        "## Problem 3.2."
      ]
    },
    {
      "cell_type": "markdown",
      "metadata": {
        "id": "CuhRoGZF-VSy"
      },
      "source": [
        "In an exit poll of 1648 voters in the 2020 Senatorial election in Arizona, 51.5% said they voted\n",
        "for Mark Kelly and 48.5% said they voted for Martha McSally"
      ]
    },
    {
      "cell_type": "markdown",
      "metadata": {
        "id": "lK5T2kKO-VSy"
      },
      "source": [
        "a) Suppose that actually 50% of the population voted for Kelly. If this exit poll had the\n",
        "properties of a simple random sample, find the standard error of the sample proportion\n",
        "voting for him."
      ]
    },
    {
      "cell_type": "markdown",
      "metadata": {
        "id": "DRd1RDHh-VSz"
      },
      "source": [
        "b) Under the 50% presumption, are the results of the exit poll surprising? Why? Would you\n",
        "be willing to predict the election outcome? Explain by (i) conducting a simulation; (ii)\n",
        "using the value found in (a) for the standard error."
      ]
    },
    {
      "cell_type": "markdown",
      "metadata": {
        "id": "mVesD013-VS0"
      },
      "source": [
        "`(a) Your answer goes here`"
      ]
    },
    {
      "cell_type": "code",
      "execution_count": null,
      "metadata": {
        "colab": {
          "base_uri": "https://localhost:8080/"
        },
        "id": "rP2UeWIA-VS1",
        "outputId": "f030f9dd-8908-4716-bb4b-7f410d0c4151"
      },
      "outputs": [
        {
          "output_type": "stream",
          "name": "stdout",
          "text": [
            "Standard Error: 0.012316615977053663\n"
          ]
        }
      ],
      "source": [
        "import math\n",
        "p = 0.50\n",
        "n = 1648\n",
        "\n",
        "standard_error = math.sqrt((p * (1 - p)) / n)\n",
        "print(\"Standard Error:\", standard_error)\n"
      ]
    },
    {
      "cell_type": "markdown",
      "metadata": {
        "id": "2K33PM0K-VS2"
      },
      "source": [
        "`(b) Your answer goes here`"
      ]
    },
    {
      "cell_type": "code",
      "execution_count": null,
      "metadata": {
        "colab": {
          "base_uri": "https://localhost:8080/"
        },
        "id": "i3FAzqlp-VS2",
        "outputId": "068e0a72-a125-4520-bd15-67c2af0c95f3"
      },
      "outputs": [
        {
          "output_type": "stream",
          "name": "stdout",
          "text": [
            "The results of the exit poll are not statistically significant.\n",
            "It would not be advisable to predict the election outcome.\n"
          ]
        }
      ],
      "source": [
        "import numpy as np\n",
        "\n",
        "presumption = 0.50\n",
        "n = 1648\n",
        "standard_error = 0.0123166\n",
        "\n",
        "simulated_results = np.random.normal(presumption, standard_error, size=10000)\n",
        "\n",
        "p_value = np.count_nonzero(simulated_results >= 0.515) / len(simulated_results)\n",
        "\n",
        "if p_value < 0.05:\n",
        "    print(\"The results of the exit poll are surprising.\")\n",
        "    print(\"It would be reasonable to predict the election outcome .\")\n",
        "else:\n",
        "    print(\"The results of the exit poll are not statistically significant.\")\n",
        "    print(\"It would not be advisable to predict the election outcome.\")\n"
      ]
    },
    {
      "cell_type": "markdown",
      "metadata": {
        "id": "-ZlXETxa-VS2"
      },
      "source": [
        "## Problem 3.3."
      ]
    },
    {
      "cell_type": "markdown",
      "metadata": {
        "id": "Xo35P3sX-VS3"
      },
      "source": [
        " The 49 students in a class at the University of Florida made blinded evaluations of pairs of\n",
        "cola drinks. For the 49 comparisons of Coke and Pepsi, Coke was preferred 29 times. In the\n",
        "population that this sample represents, is this strong evidence that a majority prefers Coke?\n",
        "Use a simulation of a sampling distribution to answer."
      ]
    },
    {
      "cell_type": "markdown",
      "metadata": {
        "id": "WQgs6VFI-VS3"
      },
      "source": [
        "`Your answer goes here`"
      ]
    },
    {
      "cell_type": "code",
      "execution_count": null,
      "metadata": {
        "colab": {
          "base_uri": "https://localhost:8080/"
        },
        "id": "xEK2n8lK-VS4",
        "outputId": "4f29125a-3a91-434a-98d1-b5abf0fc5476"
      },
      "outputs": [
        {
          "output_type": "stream",
          "name": "stdout",
          "text": [
            "There is strong evidence that a majority prefers Coke.\n"
          ]
        }
      ],
      "source": [
        "import numpy as np\n",
        "simulations = 50000\n",
        "observed_preference = 29\n",
        "total_comparisons = 49\n",
        "\n",
        "\n",
        "for _ in range(simulations):\n",
        "    simulated_preferences = np.random.choice(['Coke', 'Pepsi'], size=total_comparisons, replace=True)\n",
        "\n",
        "coke_count = np.count_nonzero(simulated_preferences == 'Coke')\n",
        "\n",
        "if coke_count >= observed_preference:\n",
        "        coke_preferred += 1\n",
        "\n",
        "p_value = coke_preferred / simulations\n",
        "\n",
        "if p_value < 0.05:\n",
        "    print(\"There is strong evidence that a majority prefers Coke.\")\n",
        "else:\n",
        "    print(\"There is not enough evidence that a majority prefer Coke.\")\n"
      ]
    },
    {
      "cell_type": "markdown",
      "metadata": {
        "id": "KJqQ3RfL-VS5"
      },
      "source": [
        "## Problem 3.5."
      ]
    },
    {
      "cell_type": "markdown",
      "metadata": {
        "id": "HXTNLieg-VS5"
      },
      "source": [
        "The example in Section 3.1.4 simulated sampling distributions of the sample mean to determine how precise $\\bar{Y}$ for $n=25$ may estimate a population mean $\\mu.$"
      ]
    },
    {
      "cell_type": "markdown",
      "metadata": {
        "id": "jcsEmpYm-VS7"
      },
      "source": [
        "a) Find the theoretical standard error of $\\bar{Y}$ for the scenario values of $\\sigma = 5$ and 8. How do they compare to the standard deviations of the 100,000 sample means in the simulations?"
      ]
    },
    {
      "cell_type": "markdown",
      "metadata": {
        "id": "jsmIEqLF-VS7"
      },
      "source": [
        "`Your answer goes here`"
      ]
    },
    {
      "cell_type": "code",
      "execution_count": null,
      "metadata": {
        "id": "KS5u6hxd-VS8",
        "colab": {
          "base_uri": "https://localhost:8080/"
        },
        "outputId": "dc92d05f-b88e-4ab0-f59b-7c1f3f404717"
      },
      "outputs": [
        {
          "output_type": "stream",
          "name": "stdout",
          "text": [
            "Theoretical Standard Error for sigma = 5 1.0\n",
            "Standard Deviation of Sample Means for sigma = 5 1.0004221443931796\n",
            "\n",
            "Theoretical Standard Error for sigma = 8 1.6\n",
            "Standard Deviation of Sample Means for sigma = 8 1.599619287289789\n",
            "\n"
          ]
        }
      ],
      "source": [
        "\n",
        "import numpy as np\n",
        "\n",
        "sigma_values = [5, 8]\n",
        "\n",
        "n = 25\n",
        "\n",
        "num_simulations = 100000\n",
        "\n",
        "std_dev_simulations = []\n",
        "\n",
        "for sigma in sigma_values:\n",
        "    sample_means = []\n",
        "    for _ in range(num_simulations):\n",
        "        samples = np.random.normal(loc=0, scale=sigma, size=n)\n",
        "        sample_mean = np.mean(samples)\n",
        "        sample_means.append(sample_mean)\n",
        "\n",
        "    std_dev_simulation = np.std(sample_means)\n",
        "    std_dev_simulations.append(std_dev_simulation)\n",
        "\n",
        "for i in range(len(sigma_values)):\n",
        "    print(f\"Theoretical Standard Error for sigma = {sigma_values[i]} {sigma_values[i] / np.sqrt(n)}\")\n",
        "    print(f\"Standard Deviation of Sample Means for sigma = {sigma_values[i]} {std_dev_simulations[i]}\\n\")\n"
      ]
    },
    {
      "cell_type": "markdown",
      "metadata": {
        "id": "Dd0W_0Sq-VS8"
      },
      "source": [
        "b) In the first scenario, we chose $\\sigma = 5$ under the belief that if $\\mu = 20$, about 2/3 of the sample values would fall between `$`15 and `$`25. For the gamma distribution with $(\\mu, \\sigma) = (20,5),$ show that the actual probability between 15 and 25 is 0.688."
      ]
    },
    {
      "cell_type": "markdown",
      "metadata": {
        "id": "ZQFRVofY-VS9"
      },
      "source": [
        "`Your answer goes here`"
      ]
    },
    {
      "cell_type": "code",
      "execution_count": null,
      "metadata": {
        "id": "MYUtUMjR-VS9",
        "colab": {
          "base_uri": "https://localhost:8080/"
        },
        "outputId": "8601c1a1-f453-4666-cbbe-f7db9fda6522"
      },
      "outputs": [
        {
          "output_type": "stream",
          "name": "stdout",
          "text": [
            "Actual Probability between 15 and 25: 0.38220597348486973\n"
          ]
        }
      ],
      "source": [
        "from scipy.stats import gamma\n",
        "\n",
        "mu = 20\n",
        "sigma = 5\n",
        "lower_bound = 15\n",
        "upper_bound = 25\n",
        "\n",
        "probability = gamma.cdf(upper_bound, mu / sigma, scale=sigma) - gamma.cdf(lower_bound, mu / sigma, scale=sigma)\n",
        "\n",
        "print(f\"Actual Probability between {lower_bound} and {upper_bound}: {probability}\")\n"
      ]
    },
    {
      "cell_type": "markdown",
      "metadata": {
        "id": "JQk9VgMy-VS9"
      },
      "source": [
        "## Problem 3.8."
      ]
    },
    {
      "cell_type": "markdown",
      "metadata": {
        "id": "Vmafbut_-VS9"
      },
      "source": [
        "Construct the sampling distribution of the sample proportion of heads, for flipping a balanced\n",
        "coin (a) once; (b) twice; (c) three times; (d) four times. Describe how the shape changes\n",
        "as the number of flips $n$ increases. What would happen if $n$ kept growing? Why?\n"
      ]
    },
    {
      "cell_type": "markdown",
      "metadata": {
        "id": "V8GvcyD7-VS-"
      },
      "source": [
        "\n",
        "As the number of flips n increases we would expect the shape to become more of a bell shape curve and standardize. This effect is due to the Central Limit Therom having a large random sample from the population the distribution of the mean will become normally distributed.\n",
        "\n",
        "\n"
      ]
    },
    {
      "cell_type": "code",
      "execution_count": null,
      "metadata": {
        "colab": {
          "base_uri": "https://localhost:8080/",
          "height": 718
        },
        "id": "Y6YVP1Pt-VS-",
        "outputId": "b15de106-6bda-4e60-c3ce-cf3f16ed855d"
      },
      "outputs": [
        {
          "output_type": "display_data",
          "data": {
            "text/plain": [
              "<Figure size 1000x800 with 4 Axes>"
            ],
            "image/png": "[encoded data removed]"
          },
          "metadata": {}
        }
      ],
      "source": [
        "import numpy as np\n",
        "import matplotlib.pyplot as plt\n",
        "\n",
        "def simulate_coin_flips(n_flips, n_samples):\n",
        "    proportions = []\n",
        "\n",
        "    for _ in range(n_samples):\n",
        "        flips = np.random.choice(['H', 'T'], size=n_flips)\n",
        "        proportion_heads = np.mean(flips == 'H')\n",
        "        proportions.append(proportion_heads)\n",
        "\n",
        "    return proportions\n",
        "\n",
        "n_flips = [1, 2, 3, 4]\n",
        "n_samples = 1000\n",
        "\n",
        "fig, axs = plt.subplots(2, 2, figsize=(10, 8))\n",
        "\n",
        "for i, ax in enumerate(axs.flatten()):\n",
        "    proportions = simulate_coin_flips(n_flips[i], n_samples)\n",
        "    ax.hist(proportions, bins=10)\n",
        "    ax.set_xlabel('Prop of Heads')\n",
        "    ax.set_ylabel('Frequency')\n",
        "    ax.set_title(f'{n_flips[i]} Coin Flips')\n",
        "\n",
        "\n",
        "plt.show()\n"
      ]
    },
    {
      "cell_type": "markdown",
      "metadata": {
        "id": "wczGqgIQ-VS-"
      },
      "source": [
        "## Problem 3.11."
      ]
    },
    {
      "cell_type": "markdown",
      "metadata": {
        "id": "mpRXe6Oq-VS-"
      },
      "source": [
        "Simulate taking a random sample of sinze $n$ from a Poisson distribution with $\\mu = 5.$ Find $\\bar{y}$ for $n=10, n = 1000, n = 100,000,$ and $n=10,000,000$ to illustrate the law of large numbers."
      ]
    },
    {
      "cell_type": "markdown",
      "metadata": {
        "id": "fxwHYIbd-VS_"
      },
      "source": [
        "`Your answer goes here`"
      ]
    },
    {
      "cell_type": "code",
      "execution_count": null,
      "metadata": {
        "colab": {
          "base_uri": "https://localhost:8080/"
        },
        "id": "7UjLvj6R-VS_",
        "outputId": "db1c7c3f-2f89-4b68-a5ef-c6717f7fc811"
      },
      "outputs": [
        {
          "output_type": "stream",
          "name": "stdout",
          "text": [
            "Sample Size: 10000000 Sample Mean: 5.0000276\n"
          ]
        }
      ],
      "source": [
        "import numpy as np\n",
        "\n",
        "mu=5\n",
        "random_sample_size=[10,1000,100000,10000000]\n",
        "\n",
        "for n in random_sample_size:\n",
        "  sample=np.random.poisson(mu,n)\n",
        "\n",
        "sample_mean = np.mean(sample)\n",
        "\n",
        "print(f\"Sample Size: {n} Sample Mean: {sample_mean}\")"
      ]
    },
    {
      "cell_type": "markdown",
      "metadata": {
        "id": "_rnRa9dN-VTA"
      },
      "source": [
        "## Problem 3.12."
      ]
    },
    {
      "cell_type": "markdown",
      "metadata": {
        "id": "RsPcCvfC-VTA"
      },
      "source": [
        "Simulate random sampling from a normal population distribution with several $n$ values to\n",
        "illustrate the law of large numbers."
      ]
    },
    {
      "cell_type": "markdown",
      "metadata": {
        "id": "ER6Ga6U7-VTA"
      },
      "source": [
        "`Your answer goes here`"
      ]
    },
    {
      "cell_type": "code",
      "execution_count": null,
      "metadata": {
        "colab": {
          "base_uri": "https://localhost:8080/"
        },
        "id": "IZN0pNg9-VTB",
        "outputId": "66e2f660-d6ec-42af-f55e-3a6bd47eb91e"
      },
      "outputs": [
        {
          "output_type": "stream",
          "name": "stdout",
          "text": [
            "Sample size:10000000 Sample Mean:80.99701150989434\n"
          ]
        }
      ],
      "source": [
        "import numpy as np\n",
        "mu=81\n",
        "st_dev=8\n",
        "random_sample_size=[10,100,1000,10000,100000,10000000]\n",
        "\n",
        "for n in random_sample_size:\n",
        "  sample=np.random.normal(mu,st_dev,n)\n",
        "sample_mean=np.mean(sample)\n",
        "\n",
        "print(f'Sample size:{n} Sample Mean:{sample_mean}')\n",
        "\n",
        "\n"
      ]
    },
    {
      "cell_type": "markdown",
      "metadata": {
        "id": "p4TGcShU-VTB"
      },
      "source": [
        "## Problem 3.13."
      ]
    },
    {
      "cell_type": "markdown",
      "metadata": {
        "id": "8EULxn5G-VTE"
      },
      "source": [
        "Simulate random sampling from a uniform population distribution with several $n$ values to\n",
        "illustrate the Central Limit Theorem."
      ]
    },
    {
      "cell_type": "markdown",
      "metadata": {
        "id": "orMh0e1o-VTE"
      },
      "source": [
        "`Your answer goes here`"
      ]
    },
    {
      "cell_type": "code",
      "execution_count": null,
      "metadata": {
        "colab": {
          "base_uri": "https://localhost:8080/"
        },
        "id": "YBiUW6z2-VTE",
        "outputId": "8d290346-68e8-40fe-f66b-3fb944bbc5ff"
      },
      "outputs": [
        {
          "output_type": "stream",
          "name": "stdout",
          "text": [
            "Sample Size: 10000 Sample Mean: 50.456476526584765\n"
          ]
        }
      ],
      "source": [
        "import numpy as np\n",
        "\n",
        "a = 0\n",
        "b = 100\n",
        "\n",
        "sample_sizes = [10, 100, 1000, 10000]\n",
        "\n",
        "for n in sample_sizes:\n",
        "\n",
        "    sample = np.random.uniform(a, b,n)\n",
        "\n",
        "sample_mean = np.mean(sample)\n",
        "\n",
        "print(f\"Sample Size: {n} Sample Mean: {sample_mean}\")\n",
        "\n"
      ]
    },
    {
      "cell_type": "markdown",
      "metadata": {
        "id": "PtZUWika-VTF"
      },
      "source": [
        "## Problem 3.14."
      ]
    },
    {
      "cell_type": "markdown",
      "metadata": {
        "id": "Y05sq-lC-VTQ"
      },
      "source": [
        "On each bet in a sequence of bets, you win 1 dollar with probability 0.50 and lose 1 dollar (i.e., win negative 1 dollar) with probability 0.50. Let $Y$ denote the total of your winnings and losings after 100 bets. Giving your reasoning, state the approximate distribution of $Y.$"
      ]
    },
    {
      "cell_type": "markdown",
      "metadata": {
        "id": "FZAgyCuy-VTR"
      },
      "source": [
        "`Your answer goes here`"
      ]
    },
    {
      "cell_type": "code",
      "execution_count": null,
      "metadata": {
        "id": "dXJ0-Mnc-VTR",
        "colab": {
          "base_uri": "https://localhost:8080/"
        },
        "outputId": "e7857903-d733-44b2-8b4b-bd2f8a1b1fc5"
      },
      "outputs": [
        {
          "output_type": "stream",
          "name": "stdout",
          "text": [
            "50.0\n",
            "5.0\n",
            "The approzimate distrbution of Y is in between 45.0 - 55.0\n"
          ]
        }
      ],
      "source": [
        "import math\n",
        "\n",
        "n= 100\n",
        "p=0.5\n",
        "binomial_mean = n*p\n",
        "q = 1-p\n",
        "standard_deviation = math.sqrt(n*p*q)\n",
        "\n",
        "print(binomial_mean)\n",
        "print(standard_deviation)\n",
        "\n",
        "print (\"The approzimate distrbution of Y is in between \" + str(binomial_mean - standard_deviation)+ \" - \" + str(binomial_mean + standard_deviation))"
      ]
    },
    {
      "cell_type": "markdown",
      "metadata": {
        "id": "DUKRWt6G-VTR"
      },
      "source": [
        "## Problem 3.15."
      ]
    },
    {
      "cell_type": "markdown",
      "metadata": {
        "id": "tfs4-h7V-VTS"
      },
      "source": [
        "According to a General Social Survey, in the United States the population distribution of $Y$ =\n",
        "number of good friends (not including family members) has a mean of about 5.5 and a standard\n",
        "deviation of about 3.9."
      ]
    },
    {
      "cell_type": "markdown",
      "metadata": {
        "id": "u8Uz5fJ_-VTS"
      },
      "source": [
        "a) Is it plausible that this population distribution is normal? Explain."
      ]
    },
    {
      "cell_type": "markdown",
      "metadata": {
        "id": "1qTfnT6U-VTS"
      },
      "source": [
        "It is plausible to consider the population is in normal distribution."
      ]
    },
    {
      "cell_type": "code",
      "execution_count": null,
      "metadata": {
        "id": "g9eTU2no-VTS"
      },
      "outputs": [],
      "source": []
    },
    {
      "cell_type": "markdown",
      "metadata": {
        "id": "REUH1LE9-VTT"
      },
      "source": [
        "b) If a new survey takes a simple random sample of 1000 people, describe the sampling\n",
        "distribution of $\\bar{Y}$ by giving its shape and approximate mean and standard error."
      ]
    },
    {
      "cell_type": "markdown",
      "metadata": {
        "id": "tTUJ3yvV-VTT"
      },
      "source": [
        "The shape will be a normal distribution due to a larger random sample. The mean of the distribution will be 5.5 same as the mean of the population. The standard error will be 0.124."
      ]
    },
    {
      "cell_type": "code",
      "execution_count": null,
      "metadata": {
        "id": "fVL9iXCS-VTT"
      },
      "outputs": [],
      "source": []
    },
    {
      "cell_type": "markdown",
      "metadata": {
        "id": "QGzZlatv-VTT"
      },
      "source": [
        "c) Suppose that actually the mean of 5.5 and standard deviation of 3.9 are not population\n",
        "values but are based on a sample of 1000 people. Treating results as a simple random\n",
        "sample, give an interval of values within which you can be very sure that the population\n",
        "mean falls. Explain your reasoning."
      ]
    },
    {
      "cell_type": "markdown",
      "metadata": {
        "id": "6yBMHPR_-VTU"
      },
      "source": [
        "With the values provided I am 95% sure the population mean falls between the values 5.5 +/- 0.242."
      ]
    },
    {
      "cell_type": "code",
      "execution_count": null,
      "metadata": {
        "id": "-EXsoiFJ-VTU"
      },
      "outputs": [],
      "source": []
    },
    {
      "cell_type": "markdown",
      "metadata": {
        "id": "XEssEnFR-VTU"
      },
      "source": [
        "## Problem 3.18."
      ]
    },
    {
      "cell_type": "markdown",
      "metadata": {
        "id": "CbtgLwMp-VTU"
      },
      "source": [
        "Sunshine City, which attracts primarily retired people, has 90,000 residents with a mean age\n",
        "of 72 years and a standard deviation of 12 years. The age distribution is skewed to the left. A\n",
        "random sample of 100 residents of Sunshine City has $\\bar{y} = 70$ and $s = 11.$"
      ]
    },
    {
      "cell_type": "markdown",
      "metadata": {
        "id": "fD6lfRPv-VTV"
      },
      "source": [
        "a)  Describe the center and spread of the (i) population distribution, (ii) sample data distribution. What shape does the sample data distribution probably have? Why?"
      ]
    },
    {
      "cell_type": "markdown",
      "metadata": {
        "id": "13Q67y4u-VTV"
      },
      "source": [
        "The population distribution and sample data distribution should have similar distribution shape due to the mean and standard deviation being similar. With the population mean is a little higher compared to the random sample so we can expect the data to be skewed to the left for both."
      ]
    },
    {
      "cell_type": "code",
      "execution_count": null,
      "metadata": {
        "id": "oj6U1na--VTV"
      },
      "outputs": [],
      "source": []
    },
    {
      "cell_type": "markdown",
      "metadata": {
        "id": "R3A6GmjF-VTV"
      },
      "source": [
        "b) Find the center and spread of the sampling distribution of $\\bar{Y}$ for $n = 100.$ What shape does it have and what does it describe?\n"
      ]
    },
    {
      "cell_type": "markdown",
      "metadata": {
        "id": "icQ3dP3J-VTW"
      },
      "source": [
        "Normal distribution."
      ]
    },
    {
      "cell_type": "code",
      "execution_count": null,
      "metadata": {
        "id": "mQHnwZAv-VTW"
      },
      "outputs": [],
      "source": []
    },
    {
      "cell_type": "markdown",
      "metadata": {
        "id": "vK_K6xev-VTW"
      },
      "source": [
        "c)  Explain why it would not be unusual to sample a person of age 60 in Sunshine City, but\n",
        "it would be highly unusual for the sample mean to be 60, for a random sample of 100\n",
        "residents."
      ]
    },
    {
      "cell_type": "markdown",
      "metadata": {
        "id": "zHnOPfqj-VTW"
      },
      "source": [
        "It wouldnt be unusual to sample a perdon of age 60 because the age falls within the range of the data. But having a random sample mean of 60 would be highly unsual becuase it does not reflect the parameters found in the population."
      ]
    },
    {
      "cell_type": "code",
      "execution_count": null,
      "metadata": {
        "id": "I8l4wwah-VTX"
      },
      "outputs": [],
      "source": []
    },
    {
      "cell_type": "markdown",
      "metadata": {
        "id": "jvw1xXwb-VTX"
      },
      "source": [
        "d) Describe the sampling distribution of $\\bar{Y}$ : (i) for a random sample of size $n = 1$; (ii) if you sample all 90,000 residents."
      ]
    },
    {
      "cell_type": "markdown",
      "metadata": {
        "id": "TwCaieTf-VTX"
      },
      "source": [
        "In a sample of size n=1 the distribution would solely be described by the information from the 1 sample. In a sample of 90,000 the distribution would be reflecting the same as the population distribution.\n",
        "\n"
      ]
    },
    {
      "cell_type": "code",
      "execution_count": null,
      "metadata": {
        "id": "Y8N8FRxJ-VTX"
      },
      "outputs": [],
      "source": []
    },
    {
      "cell_type": "markdown",
      "metadata": {
        "id": "mwmkusNC-VTX"
      },
      "source": [
        "## Problem 3.21."
      ]
    },
    {
      "cell_type": "markdown",
      "metadata": {
        "id": "5MWAv2Wn-VTY"
      },
      "source": [
        "In your school, suppose that GPA has an approximate normal distribution with $\\mu = 3.0, \\sigma = 0.40.$ Not knowing $\\mu$, you randomly sample $n = 25$ students to estimate it. Using simulation for this application, illustrate the difference between a sample data distribution and the sampling distribution of Y ."
      ]
    },
    {
      "cell_type": "markdown",
      "metadata": {
        "id": "nqnRUan2-VTY"
      },
      "source": [
        "`Your answer here`"
      ]
    },
    {
      "cell_type": "code",
      "execution_count": null,
      "metadata": {
        "id": "dOZYGC9--VTY",
        "colab": {
          "base_uri": "https://localhost:8080/",
          "height": 927
        },
        "outputId": "ce916348-0821-4211-8708-f4bdb4b044ce"
      },
      "outputs": [
        {
          "output_type": "display_data",
          "data": {
            "text/plain": [
              "<Figure size 640x480 with 1 Axes>"
            ],
            "image/png": "[encoded data removed]"
          },
          "metadata": {}
        },
        {
          "output_type": "display_data",
          "data": {
            "text/plain": [
              "<Figure size 640x480 with 1 Axes>"
            ],
            "image/png": "[encoded data removed]"
          },
          "metadata": {}
        }
      ],
      "source": [
        "import numpy as np\n",
        "import matplotlib.pyplot as plt\n",
        "\n",
        "mu = 3.0\n",
        "sigma = 0.40\n",
        "\n",
        "sample = np.random.normal(mu, sigma, 25)\n",
        "\n",
        "plt.hist(sample, bins=10, alpha=0.5)\n",
        "plt.xlabel(\"GPA\")\n",
        "plt.ylabel(\"Frequency\")\n",
        "plt.title(\"Sample Data Distribution\")\n",
        "plt.show()\n",
        "\n",
        "sampling_distribution = []\n",
        "for i in range(10000):\n",
        "    sample = np.random.normal(mu, sigma, 25)\n",
        "    sampling_distribution.append(np.mean(sample))\n",
        "\n",
        "plt.hist(sampling_distribution, bins=10, alpha=0.5)\n",
        "plt.xlabel(\"GPA\")\n",
        "plt.ylabel(\"Frequency\")\n",
        "plt.title(\"Sampling Distribution of Y\")\n",
        "plt.show()\n"
      ]
    },
    {
      "cell_type": "markdown",
      "metadata": {
        "id": "G-1iax_N-VTY"
      },
      "source": [
        "## Problem 3.26."
      ]
    },
    {
      "cell_type": "markdown",
      "metadata": {
        "id": "XQMyfpMV-VTZ"
      },
      "source": [
        "When sample data were used to rank states by brain cancer rates, Ellenberg (2014) noted\n",
        "that the highest ranking state (South Dakota) and the nearly lowest ranking state (North\n",
        "Dakota) had relatively small sample sizes. Also, when schools in North Carolina were ranked\n",
        "by their average improvement in test scores, the best and the worst schools were very small\n",
        "schools. Explain how these results could merely reflect how the variability of sample means and\n",
        "proportions depends on the sample size."
      ]
    },
    {
      "cell_type": "markdown",
      "metadata": {
        "id": "3Ovd68Pm-VTZ"
      },
      "source": [
        "The results from the brain cancer rates and average imporvement in test score both are due to variability of sample means and proportions of the sample size. Having a small sample sizes increases variability causing extremes. Larger sample sizes allows for more stability and is not affected by outliers. Larger small sizes decreases the variability presented in sample means."
      ]
    },
    {
      "cell_type": "code",
      "execution_count": null,
      "metadata": {
        "id": "4NqPfC79-VTZ"
      },
      "outputs": [],
      "source": [
        "\n"
      ]
    }
  ],
  "metadata": {
    "kernelspec": {
      "display_name": "Python 3",
      "language": "python",
      "name": "python3"
    },
    "language_info": {
      "codemirror_mode": {
        "name": "ipython",
        "version": 3
      },
      "file_extension": ".py",
      "mimetype": "text/x-python",
      "name": "python",
      "nbconvert_exporter": "python",
      "pygments_lexer": "ipython3",
      "version": "3.8.3"
    },
    "colab": {
      "provenance": [],
      "include_colab_link": true
    }
  },
  "nbformat": 4,
  "nbformat_minor": 0
}